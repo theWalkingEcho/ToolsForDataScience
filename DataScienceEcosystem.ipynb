{
 "cells": [
  {
   "cell_type": "markdown",
   "id": "54c643fd-7578-473f-8c6e-20b6ba404c0f",
   "metadata": {},
   "source": [
    "# Data Science Tools and Ecosystem"
   ]
  },
  {
   "cell_type": "markdown",
   "id": "65ac85cb-9981-4e25-92a4-e053fb79e946",
   "metadata": {},
   "source": [
    "In this notebook, Data Science Tools and Ecosystem are summarized."
   ]
  },
  {
   "cell_type": "markdown",
   "id": "495602f3-7f13-483b-9731-250feea5c706",
   "metadata": {},
   "source": [
    "Some of the popular languages that Data Scientists use are:\n",
    "1. Python\n",
    "2. R\n",
    "3. SQL\n",
    "4. Java"
   ]
  },
  {
   "cell_type": "markdown",
   "id": "2506cc25-40a8-4b15-a8b0-0055f27425cd",
   "metadata": {},
   "source": [
    "Some of the commonly used libraries used by Data Scientists include:\n",
    "1. Numpy\n",
    "2. Sci-kit learn\n",
    "3. Pandas\n",
    "4. ggplot\n",
    "5. Tensorflow"
   ]
  },
  {
   "cell_type": "markdown",
   "id": "ba96bfac-568e-4836-b436-5ee39f1b1440",
   "metadata": {},
   "source": [
    "Data Science Tools|\n",
    "-------------------|\n",
    "RStudio|\n",
    "Jupyter Notebook|\n",
    "Visual Studio Code|"
   ]
  },
  {
   "cell_type": "markdown",
   "id": "9d2736ef-85bf-48dd-af65-ab5dd9ef0620",
   "metadata": {},
   "source": [
    "---------------------------------"
   ]
  },
  {
   "cell_type": "markdown",
   "id": "b3e5f8da-4d34-4ea1-be3b-033b1317fabf",
   "metadata": {},
   "source": [
    "### Below are a few examples of evaluating arithmetic expressions in Python"
   ]
  },
  {
   "cell_type": "code",
   "execution_count": 3,
   "id": "18bedddc-413a-4de8-8e46-7820d3077deb",
   "metadata": {},
   "outputs": [
    {
     "data": {
      "text/plain": [
       "17"
      ]
     },
     "execution_count": 3,
     "metadata": {},
     "output_type": "execute_result"
    }
   ],
   "source": [
    "# This a simple arithmetic expression to multiply then add integers\n",
    "(3*4)+5"
   ]
  },
  {
   "cell_type": "code",
   "execution_count": 4,
   "id": "84b26f81-7043-4a59-9f75-7b3ed3a21400",
   "metadata": {},
   "outputs": [
    {
     "data": {
      "text/plain": [
       "3.3333333333333335"
      ]
     },
     "execution_count": 4,
     "metadata": {},
     "output_type": "execute_result"
    }
   ],
   "source": [
    "# This will convert 200 minutes to hours by diving by 60\n",
    "minutes = 200\n",
    "hours = 200 / 60\n",
    "hours"
   ]
  },
  {
   "cell_type": "markdown",
   "id": "faa3e620-885f-4390-87c6-7d37d6ecc2a4",
   "metadata": {},
   "source": [
    "--------------------------------"
   ]
  },
  {
   "cell_type": "markdown",
   "id": "5f323175-b8e0-4ecc-b687-d5f602134159",
   "metadata": {},
   "source": [
    "**Objectives:**\n",
    "+ List popular languages for Data Science: R, Python, SQL and Java\n",
    "+ Popular IDEs: RStudio, Jupyter Notebook and Visual Studio Code\n",
    "+ Understand how to create tables using markdown\n",
    "+ Execute simple arithmetic problems\n",
    "+ Convert minutes to hours"
   ]
  },
  {
   "cell_type": "markdown",
   "id": "3e9c82db-5371-4b9a-a05e-6660831bf1df",
   "metadata": {},
   "source": [
    "-------------------------------------"
   ]
  },
  {
   "cell_type": "markdown",
   "id": "7e938a5f-99ea-40bc-ac6c-23bc571cb3da",
   "metadata": {},
   "source": [
    "## Author\n",
    "Shafa Bishirhafi"
   ]
  }
 ],
 "metadata": {
  "kernelspec": {
   "display_name": "Python 3 (ipykernel)",
   "language": "python",
   "name": "python3"
  },
  "language_info": {
   "codemirror_mode": {
    "name": "ipython",
    "version": 3
   },
   "file_extension": ".py",
   "mimetype": "text/x-python",
   "name": "python",
   "nbconvert_exporter": "python",
   "pygments_lexer": "ipython3",
   "version": "3.12.8"
  }
 },
 "nbformat": 4,
 "nbformat_minor": 5
}
